{
 "metadata": {
  "language_info": {
   "codemirror_mode": {
    "name": "ipython",
    "version": 3
   },
   "file_extension": ".py",
   "mimetype": "text/x-python",
   "name": "python",
   "nbconvert_exporter": "python",
   "pygments_lexer": "ipython3",
   "version": "3.8.10"
  },
  "orig_nbformat": 4,
  "kernelspec": {
   "name": "python3",
   "display_name": "Python 3.8.10 64-bit ('base': conda)"
  },
  "interpreter": {
   "hash": "ed225720166559e7176d3793db16a2fd8d295f725007103b21ac3099d2a89ee8"
  }
 },
 "nbformat": 4,
 "nbformat_minor": 2,
 "cells": [
  {
   "cell_type": "code",
   "execution_count": 6,
   "metadata": {},
   "outputs": [
    {
     "output_type": "stream",
     "name": "stdout",
     "text": [
      "Conv2d(1, 1, kernel_size=(11, 11), stride=(4, 4))\ntorch.Size([1, 1, 227, 227])\ntorch.Size([1, 1, 55, 55])\n"
     ]
    }
   ],
   "source": [
    "import torch\n",
    "import torch.nn as nn\n",
    "conv = nn.Conv2d(1,1,11,stride=4,padding=0)\n",
    "print(conv)\n",
    "inputs = torch.Tensor(1,1,227,227)\n",
    "print(inputs.shape)\n",
    "out = conv(inputs)\n",
    "print(out.shape)"
   ]
  },
  {
   "cell_type": "code",
   "execution_count": 7,
   "metadata": {},
   "outputs": [
    {
     "output_type": "stream",
     "name": "stdout",
     "text": [
      "Conv2d(1, 1, kernel_size=(7, 7), stride=(2, 2))\ntorch.Size([1, 1, 64, 64])\ntorch.Size([1, 1, 29, 29])\n"
     ]
    }
   ],
   "source": [
    "import torch\n",
    "import torch.nn as nn\n",
    "conv = nn.Conv2d(1,1,7,stride=2,padding=0)\n",
    "print(conv)\n",
    "inputs = torch.Tensor(1,1,64,64)\n",
    "print(inputs.shape)\n",
    "out = conv(inputs)\n",
    "print(out.shape)"
   ]
  },
  {
   "cell_type": "code",
   "execution_count": 8,
   "metadata": {},
   "outputs": [
    {
     "output_type": "stream",
     "name": "stdout",
     "text": [
      "Conv2d(1, 1, kernel_size=(5, 5), stride=(1, 1), padding=(2, 2))\ntorch.Size([1, 1, 32, 32])\ntorch.Size([1, 1, 32, 32])\n"
     ]
    }
   ],
   "source": [
    "import torch\n",
    "import torch.nn as nn\n",
    "conv = nn.Conv2d(1,1,5,stride=1,padding=2)\n",
    "print(conv)\n",
    "inputs = torch.Tensor(1,1,32,32)\n",
    "print(inputs.shape)\n",
    "out = conv(inputs)\n",
    "print(out.shape)"
   ]
  },
  {
   "cell_type": "code",
   "execution_count": 9,
   "metadata": {},
   "outputs": [
    {
     "output_type": "stream",
     "name": "stdout",
     "text": [
      "Conv2d(1, 1, kernel_size=(5, 5), stride=(1, 1))\ntorch.Size([1, 1, 32, 64])\ntorch.Size([1, 1, 28, 60])\n"
     ]
    }
   ],
   "source": [
    "import torch\n",
    "import torch.nn as nn\n",
    "conv = nn.Conv2d(1,1,5,stride=1,padding=0)\n",
    "print(conv)\n",
    "inputs = torch.Tensor(1,1,32,64)\n",
    "print(inputs.shape)\n",
    "out = conv(inputs)\n",
    "print(out.shape)"
   ]
  },
  {
   "cell_type": "code",
   "execution_count": 10,
   "metadata": {},
   "outputs": [
    {
     "output_type": "stream",
     "name": "stdout",
     "text": [
      "Conv2d(1, 1, kernel_size=(3, 3), stride=(1, 1), padding=(1, 1))\ntorch.Size([1, 1, 64, 32])\ntorch.Size([1, 1, 64, 32])\n"
     ]
    }
   ],
   "source": [
    "import torch\n",
    "import torch.nn as nn\n",
    "conv = nn.Conv2d(1,1,3,stride=1,padding=1)\n",
    "print(conv)\n",
    "inputs = torch.Tensor(1,1,64,32)\n",
    "print(inputs.shape)\n",
    "out = conv(inputs)\n",
    "print(out.shape)"
   ]
  },
  {
   "cell_type": "code",
   "execution_count": 11,
   "metadata": {},
   "outputs": [
    {
     "output_type": "stream",
     "name": "stdout",
     "text": [
      "torch.Size([1, 5, 24, 24])\n",
      "torch.Size([1, 5, 12, 12])\n",
      "C:\\Anaconda\\lib\\site-packages\\torch\\nn\\functional.py:718: UserWarning: Named tensors and all their associated APIs are an experimental feature and subject to change. Please do not use them for anything important until they are released as stable. (Triggered internally at  ..\\c10/core/TensorImpl.h:1156.)\n",
      "  return torch.max_pool2d(input, kernel_size, stride, padding, dilation, ceil_mode)\n"
     ]
    }
   ],
   "source": [
    "import torch\n",
    "import torch.nn as nn\n",
    "inputs = torch.Tensor(1,1,28,28)\n",
    "conv1 = nn.Conv2d(1,5,5)\n",
    "pool = nn.MaxPool2d(2)\n",
    "out = conv1(inputs)\n",
    "out2 = pool(out)\n",
    "print(out.size())\n",
    "print(out2.size())"
   ]
  },
  {
   "cell_type": "code",
   "execution_count": null,
   "metadata": {},
   "outputs": [],
   "source": []
  }
 ]
}