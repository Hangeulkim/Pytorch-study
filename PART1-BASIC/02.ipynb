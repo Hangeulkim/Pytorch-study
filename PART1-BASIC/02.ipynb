{
 "cells": [
  {
   "cell_type": "code",
   "execution_count": 7,
   "metadata": {},
   "outputs": [],
   "source": [
    "import numpy as np\n",
    "import torch"
   ]
  },
  {
   "cell_type": "code",
   "execution_count": 4,
   "metadata": {},
   "outputs": [],
   "source": [
    "x_train = torch.FloatTensor([[1],[2],[3]])\n",
    "y_train = torch.FloatTensor([[2],[4],[6]])\n",
    "\n",
    "W = torch.zeros(1, requires_grad=True)\n",
    "b = torch.zeros(1, requires_grad=True)"
   ]
  },
  {
   "cell_type": "code",
   "execution_count": 3,
   "metadata": {},
   "outputs": [],
   "source": []
  },
  {
   "cell_type": "code",
   "execution_count": 10,
   "metadata": {},
   "outputs": [
    {
     "name": "stdout",
     "output_type": "stream",
     "text": [
      "tensor(0.0004, grad_fn=<MeanBackward0>)\n",
      "tensor(0.0002, grad_fn=<MeanBackward0>)\n",
      "tensor(0.0002, grad_fn=<MeanBackward0>)\n",
      "tensor(9.2718e-05, grad_fn=<MeanBackward0>)\n",
      "tensor(5.7296e-05, grad_fn=<MeanBackward0>)\n",
      "tensor(3.5404e-05, grad_fn=<MeanBackward0>)\n",
      "tensor(2.1878e-05, grad_fn=<MeanBackward0>)\n",
      "tensor(1.3519e-05, grad_fn=<MeanBackward0>)\n",
      "tensor(8.3542e-06, grad_fn=<MeanBackward0>)\n",
      "tensor(5.1626e-06, grad_fn=<MeanBackward0>)\n"
     ]
    }
   ],
   "source": [
    "optimizer = torch.optim.SGD([W,b], lr = 0.01)\n",
    "\n",
    "nb_epochs = 1000\n",
    "for epoch in range(1, nb_epochs + 1):\n",
    "    hypothesis = x_train * W + b\n",
    "    #MSE 사용\n",
    "    cost = torch.mean((hypothesis - y_train)**2)\n",
    "    \n",
    "    optimizer.zero_grad()#gradient 초기화\n",
    "    cost.backward()#gradient 계산\n",
    "    optimizer.step()#step으로 개선\n",
    "    if epoch % 100 == 0:\n",
    "        print(cost)"
   ]
  },
  {
   "cell_type": "code",
   "execution_count": null,
   "metadata": {},
   "outputs": [],
   "source": []
  }
 ],
 "metadata": {
  "kernelspec": {
   "display_name": "Python 3",
   "language": "python",
   "name": "python3"
  },
  "language_info": {
   "codemirror_mode": {
    "name": "ipython",
    "version": 3
   },
   "file_extension": ".py",
   "mimetype": "text/x-python",
   "name": "python",
   "nbconvert_exporter": "python",
   "pygments_lexer": "ipython3",
   "version": "3.8.3"
  }
 },
 "nbformat": 4,
 "nbformat_minor": 4
}
