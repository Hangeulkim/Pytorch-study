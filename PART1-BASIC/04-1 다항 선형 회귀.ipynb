{
 "cells": [
  {
   "cell_type": "code",
   "execution_count": 1,
   "metadata": {},
   "outputs": [],
   "source": [
    "import torch\n",
    "import torch.nn.functional as F\n",
    "\n",
    "class LinearRegressionModel(torch.nn.Module):\n",
    "    def __init__(self):\n",
    "        super().__init__()\n",
    "        self.linear = torch.nn.Linear(1, 1)\n",
    "\n",
    "    def forward(self, x):\n",
    "        return self.linear(x)\n",
    "\n",
    "class MultivariateLinearRegressionModel(torch.nn.Module):\n",
    "    def __init__(self):\n",
    "        super().__init__()\n",
    "        self.linear = torch.nn.Linear(3, 1)\n",
    "\n",
    "    def forward(self, x):\n",
    "        return self.linear(x)"
   ]
  },
  {
   "cell_type": "code",
   "execution_count": 2,
   "metadata": {},
   "outputs": [],
   "source": [
    "x_train = torch.FloatTensor([[73,80,75],\n",
    "                            [93,88,93],\n",
    "                            [89,91,90],\n",
    "                            [96,98,100],\n",
    "                            [73,66,70]])\n",
    "y_train = torch.FloatTensor([[152],[185],[180],[196],[142]])"
   ]
  },
  {
   "cell_type": "code",
   "execution_count": 3,
   "metadata": {},
   "outputs": [],
   "source": [
    "#matmul을 사용하여 간결하게 해결\n",
    "#W = torch.zeros((3,1),requires_grad=True)\n",
    "#b = torch.zeros(1, requires_grad=True)\n",
    "model = MultivariateLinearRegressionModel()\n",
    "\n",
    "optimizer = torch.optim.SGD(model.parameters(), lr=1e-5)"
   ]
  },
  {
   "cell_type": "code",
   "execution_count": 4,
   "metadata": {},
   "outputs": [
    {
     "name": "stdout",
     "output_type": "stream",
     "text": [
      "Epoch    0/20 Cost: 18709.875000\n",
      "Epoch    1/20 Cost: 5864.821777\n",
      "Epoch    2/20 Cost: 1838.580078\n",
      "Epoch    3/20 Cost: 576.566284\n",
      "Epoch    4/20 Cost: 180.992523\n",
      "Epoch    5/20 Cost: 57.000526\n",
      "Epoch    6/20 Cost: 18.135754\n",
      "Epoch    7/20 Cost: 5.953550\n",
      "Epoch    8/20 Cost: 2.135016\n",
      "Epoch    9/20 Cost: 0.937997\n",
      "Epoch   10/20 Cost: 0.562740\n",
      "Epoch   11/20 Cost: 0.445041\n",
      "Epoch   12/20 Cost: 0.408069\n",
      "Epoch   13/20 Cost: 0.396399\n",
      "Epoch   14/20 Cost: 0.392663\n",
      "Epoch   15/20 Cost: 0.391416\n",
      "Epoch   16/20 Cost: 0.390951\n",
      "Epoch   17/20 Cost: 0.390722\n",
      "Epoch   18/20 Cost: 0.390573\n",
      "Epoch   19/20 Cost: 0.390447\n",
      "Epoch   20/20 Cost: 0.390335\n"
     ]
    }
   ],
   "source": [
    "nb_epochs = 20 #lr값 설정이 중요\n",
    "for epoch in range(nb_epochs +1):\n",
    "    #hypothesis = x_train.matmul(W) + b\n",
    "    prediction = model(x_train)\n",
    "    \n",
    "    #cost = torch.mean((hypothesis - y_train)**2)\n",
    "    cost = F.mse_loss(prediction, y_train)#torch에서의 제공 함수를 사용\n",
    "    \n",
    "    optimizer.zero_grad()\n",
    "    cost.backward()\n",
    "    optimizer.step()\n",
    "    \n",
    "    print('Epoch {:4d}/{} Cost: {:.6f}'.format(\n",
    "    epoch, nb_epochs,cost.item()\n",
    "    ))"
   ]
  },
  {
   "cell_type": "code",
   "execution_count": null,
   "metadata": {},
   "outputs": [],
   "source": []
  }
 ],
 "metadata": {
  "kernelspec": {
   "display_name": "Python 3",
   "language": "python",
   "name": "python3"
  },
  "language_info": {
   "codemirror_mode": {
    "name": "ipython",
    "version": 3
   },
   "file_extension": ".py",
   "mimetype": "text/x-python",
   "name": "python",
   "nbconvert_exporter": "python",
   "pygments_lexer": "ipython3",
   "version": "3.8.3"
  }
 },
 "nbformat": 4,
 "nbformat_minor": 4
}
